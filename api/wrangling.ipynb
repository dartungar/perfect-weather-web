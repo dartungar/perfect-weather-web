{
 "metadata": {
  "language_info": {
   "codemirror_mode": {
    "name": "ipython",
    "version": 3
   },
   "file_extension": ".py",
   "mimetype": "text/x-python",
   "name": "python",
   "nbconvert_exporter": "python",
   "pygments_lexer": "ipython3",
   "version": "3.7.5-final"
  },
  "orig_nbformat": 2,
  "kernelspec": {
   "name": "python_defaultSpec_1595267987885",
   "display_name": "Python 3.7.5 64-bit ('perfect-weather-web': pipenv)"
  }
 },
 "nbformat": 4,
 "nbformat_minor": 2,
 "cells": [
  {
   "cell_type": "code",
   "execution_count": 50,
   "metadata": {},
   "outputs": [],
   "source": [
    "import pandas as pd\n",
    "from math import nan"
   ]
  },
  {
   "cell_type": "code",
   "execution_count": 51,
   "metadata": {},
   "outputs": [],
   "source": [
    "data = pd.read_csv('./data/climate_data_full.csv')"
   ]
  },
  {
   "cell_type": "code",
   "execution_count": 52,
   "metadata": {},
   "outputs": [],
   "source": [
    "df = data"
   ]
  },
  {
   "cell_type": "code",
   "execution_count": 53,
   "metadata": {},
   "outputs": [],
   "source": [
    "columns = []\n",
    "with open('./data/columns.csv') as f:\n",
    "    text = f.read()\n",
    "    columns = [c for c in text.split(',')]"
   ]
  },
  {
   "cell_type": "code",
   "execution_count": 54,
   "metadata": {},
   "outputs": [
    {
     "output_type": "execute_result",
     "data": {
      "text/plain": "['IWMO',\n 'Month',\n 'humidity Date (Year/Day) of Occurrence of Maximum Daily Value',\n 'humidity Date (Year/Day) of Occurrence of Minimum Daily Value',\n 'humidity Daytime Average',\n 'humidity First Quartile',\n 'humidity Maximum Daily Value',\n 'humidity Maximum Monthly Value',\n 'humidity Maximum Value',\n 'humidity Mean Daily Maximum Value',\n 'humidity Mean Daily Minimum Value',\n 'humidity Mean Monthly Minimum Value',\n 'humidity Mean Value',\n 'humidity Mean of 3-Hourly Observations',\n 'humidity Mean of Hourly Observations',\n 'humidity Mean of Observations at 0000 LST',\n 'humidity Mean of Observations at 0100 LST',\n 'humidity Mean of Observations at 0200 LST',\n 'humidity Mean of Observations at 0300 LST',\n 'humidity Mean of Observations at 0400 LST',\n 'humidity Mean of Observations at 0500 LST',\n 'humidity Mean of Observations at 0600 LST',\n 'humidity Mean of Observations at 0700 LST',\n 'humidity Mean of Observations at 0800 LST',\n 'humidity Mean of Observations at 0900 LST',\n 'humidity Mean of Observations at 1000 LST',\n 'humidity Mean of Observations at 1100 LST',\n 'humidity Mean of Observations at 1200 LST',\n 'humidity Mean of Observations at 1300 LST',\n 'humidity Mean of Observations at 1400 LST',\n 'humidity Mean of Observations at 1500 LST',\n 'humidity Mean of Observations at 1600 LST',\n 'humidity Mean of Observations at 1700 LST',\n 'humidity Mean of Observations at 1800 LST',\n 'humidity Mean of Observations at 1900 LST',\n 'humidity Mean of Observations at 2000 LST',\n 'humidity Mean of Observations at 2100 LST',\n 'humidity Mean of Observations at 2200 LST',\n 'humidity Mean of Observations at 2300 LST',\n 'humidity Median Value',\n 'humidity Minimum Daily Value',\n 'humidity Minimum Monthly Value',\n 'humidity Minimum Value',\n 'humidity Nighttime Average',\n 'humidity Number of Years used to Calculate Normal',\n 'humidity Standard Deviation of Mean Value',\n 'humidity Third Quartile',\n 'humidity Year of Occurrence of Maximum Monthly Value',\n 'humidity Year of Occurrence of Maximum Value',\n 'humidity Year of Occurrence of Minimum Monthly Value',\n 'humidity Year of Occurrence of Minimum Value',\n 'mean_max_temp Date (Year/Day) of Occurrence of Maximum Daily Value',\n 'mean_max_temp Date (Year/Day) of Occurrence of Minimum Daily Value',\n 'mean_max_temp First Quartile',\n 'mean_max_temp Maximum Daily Value',\n 'mean_max_temp Maximum Monthly Value',\n 'mean_max_temp Maximum Value',\n 'mean_max_temp Mean Daily Maximum Value',\n 'mean_max_temp Mean Monthly Maximum Value',\n 'mean_max_temp Mean Monthly Minimum Value',\n 'mean_max_temp Mean Value',\n 'mean_max_temp Median Value',\n 'mean_max_temp Minimum Daily Value',\n 'mean_max_temp Minimum Monthly Value',\n 'mean_max_temp Number of Years used to Calculate Normal',\n 'mean_max_temp Standard Deviation of Mean Value',\n 'mean_max_temp Third Quartile',\n 'mean_max_temp Year of Occurrence of Maximum Monthly Value',\n 'mean_max_temp Year of Occurrence of Maximum Value',\n 'mean_max_temp Year of Occurrence of Minimum Monthly Value',\n 'mean_min_temp Date (Year/Day) of Occurrence of Maximum Daily Value',\n 'mean_min_temp Date (Year/Day) of Occurrence of Minimum Daily Value',\n 'mean_min_temp First Quartile',\n 'mean_min_temp Maximum Daily Value',\n 'mean_min_temp Maximum Monthly Value',\n 'mean_min_temp Mean Daily Minimum Value',\n 'mean_min_temp Mean Monthly Maximum Value',\n 'mean_min_temp Mean Monthly Minimum Value',\n 'mean_min_temp Mean Value',\n 'mean_min_temp Median Value',\n 'mean_min_temp Minimum Daily Value',\n 'mean_min_temp Minimum Monthly Value',\n 'mean_min_temp Minimum Value',\n 'mean_min_temp Number of Years used to Calculate Normal',\n 'mean_min_temp Standard Deviation of Mean Value',\n 'mean_min_temp Third Quartile',\n 'mean_min_temp Year of Occurrence of Maximum Monthly Value',\n 'mean_min_temp Year of Occurrence of Maximum Value',\n 'mean_min_temp Year of Occurrence of Minimum Monthly Value',\n 'mean_min_temp Year of Occurrence of Minimum Value',\n 'mean_temp Date (Year/Day) of Occurrence of Maximum Daily Value',\n 'mean_temp Date (Year/Day) of Occurrence of Minimum Daily Value',\n 'mean_temp First Quartile',\n 'mean_temp Maximum Daily Value',\n 'mean_temp Maximum Monthly Value',\n 'mean_temp Maximum Value',\n 'mean_temp Mean Daily Maximum Value',\n 'mean_temp Mean Daily Minimum Value',\n 'mean_temp Mean Daily Value',\n 'mean_temp Mean Monthly Maximum Value',\n 'mean_temp Mean Monthly Minimum Value',\n 'mean_temp Mean Monthly Value',\n 'mean_temp Mean Value',\n 'mean_temp Mean of 3-Hourly Observations',\n 'mean_temp Mean of Hourly Observations',\n 'mean_temp Median Value',\n 'mean_temp Minimum Daily Value',\n 'mean_temp Minimum Monthly Value',\n 'mean_temp Minimum Value',\n 'mean_temp Number of Years used to Calculate Normal',\n 'mean_temp Standard Deviation of Mean Daily Value',\n 'mean_temp Standard Deviation of Mean Value',\n 'mean_temp Third Quartile',\n 'mean_temp Year of Occurrence of Maximum Monthly Value',\n 'mean_temp Year of Occurrence of Minimum Monthly Value',\n 'precipitation_data First Quintile',\n 'precipitation_data Fourth Quintile',\n 'precipitation_data Maximum Monthly Value',\n 'precipitation_data Mean Monthly Value',\n 'precipitation_data Median Value',\n 'precipitation_data Minimum Monthly Value',\n 'precipitation_data Number of Years used to Calculate Normal',\n 'precipitation_data Second Quintile',\n 'precipitation_data Standard Deviation of Mean Value',\n 'precipitation_data Third Quintile',\n 'precipitation_data Year of Occurrence of Maximum Monthly Value',\n 'precipitation_data Year of Occurrence of Minimum Monthly Value',\n 'sunshine Maximum Monthly Value',\n 'sunshine Mean Daily Value',\n 'sunshine Mean Number of Hours',\n 'sunshine Minimum Monthly Value',\n 'sunshine Number of Years used to Calculate Normal',\n 'sunshine Percent of Possible',\n 'sunshine Year of Occurrence of Maximum Monthly Value',\n 'sunshine Year of Occurrence of Minimum Monthly Value']"
     },
     "metadata": {},
     "execution_count": 54
    }
   ],
   "source": [
    "columns"
   ]
  },
  {
   "cell_type": "code",
   "execution_count": 55,
   "metadata": {},
   "outputs": [],
   "source": [
    "selected_cols = ['IWMO',\n",
    " 'Month',\n",
    " 'humidity Daytime Average',\n",
    " 'humidity First Quartile',\n",
    " 'humidity Mean Daily Maximum Value',\n",
    " 'humidity Mean Daily Minimum Value',\n",
    " 'humidity Mean Value',\n",
    " 'humidity Mean of 3-Hourly Observations',\n",
    " 'humidity Mean of Hourly Observations',\n",
    " 'humidity Mean of Observations at 0000 LST',\n",
    " 'humidity Mean of Observations at 0100 LST',\n",
    " 'humidity Mean of Observations at 0200 LST',\n",
    " 'humidity Mean of Observations at 0300 LST',\n",
    " 'humidity Mean of Observations at 0400 LST',\n",
    " 'humidity Mean of Observations at 0500 LST',\n",
    " 'humidity Mean of Observations at 0600 LST',\n",
    " 'humidity Mean of Observations at 0700 LST',\n",
    " 'humidity Mean of Observations at 0800 LST',\n",
    " 'humidity Mean of Observations at 0900 LST',\n",
    " 'humidity Mean of Observations at 1000 LST',\n",
    " 'humidity Mean of Observations at 1100 LST',\n",
    " 'humidity Mean of Observations at 1200 LST',\n",
    " 'humidity Mean of Observations at 1300 LST',\n",
    " 'humidity Mean of Observations at 1400 LST',\n",
    " 'humidity Mean of Observations at 1500 LST',\n",
    " 'humidity Mean of Observations at 1600 LST',\n",
    " 'humidity Mean of Observations at 1700 LST',\n",
    " 'humidity Mean of Observations at 1800 LST',\n",
    " 'humidity Mean of Observations at 1900 LST',\n",
    " 'humidity Mean of Observations at 2000 LST',\n",
    " 'humidity Mean of Observations at 2100 LST',\n",
    " 'humidity Mean of Observations at 2200 LST',\n",
    " 'humidity Mean of Observations at 2300 LST',\n",
    " 'humidity Median Value',\n",
    " 'humidity Third Quartile',\n",
    " 'mean_max_temp First Quartile',\n",
    " 'mean_max_temp Maximum Daily Value',\n",
    " 'mean_max_temp Maximum Monthly Value',\n",
    " 'mean_max_temp Maximum Value',\n",
    " 'mean_max_temp Mean Daily Maximum Value',\n",
    " 'mean_max_temp Mean Monthly Maximum Value',\n",
    " 'mean_max_temp Mean Monthly Minimum Value',\n",
    " 'mean_max_temp Mean Value',\n",
    " 'mean_max_temp Median Value',\n",
    " 'mean_max_temp Minimum Daily Value',\n",
    " 'mean_max_temp Minimum Monthly Value',\n",
    " 'mean_max_temp Third Quartile',\n",
    " 'mean_temp First Quartile',\n",
    " 'mean_temp Maximum Daily Value',\n",
    " 'mean_temp Maximum Monthly Value',\n",
    " 'mean_temp Maximum Value',\n",
    " 'mean_temp Mean Daily Maximum Value',\n",
    " 'mean_temp Mean Daily Minimum Value',\n",
    " 'mean_temp Mean Daily Value',\n",
    " 'mean_temp Mean Monthly Maximum Value',\n",
    " 'mean_temp Mean Monthly Minimum Value',\n",
    " 'mean_temp Mean Monthly Value',\n",
    " 'mean_temp Mean Value',\n",
    " 'mean_temp Mean of 3-Hourly Observations',\n",
    " 'mean_temp Mean of Hourly Observations',\n",
    " 'mean_temp Median Value',\n",
    " 'mean_temp Minimum Daily Value',\n",
    " 'mean_temp Minimum Monthly Value',\n",
    " 'mean_temp Minimum Value',\n",
    " 'mean_temp Third Quartile',\n",
    " 'precipitation_data First Quintile',\n",
    " 'precipitation_data Fourth Quintile',\n",
    " 'precipitation_data Maximum Monthly Value',\n",
    " 'precipitation_data Mean Monthly Value',\n",
    " 'precipitation_data Median Value',\n",
    " 'precipitation_data Minimum Monthly Value',\n",
    " 'precipitation_data Number of Years used to Calculate Normal',\n",
    " 'precipitation_data Second Quintile',\n",
    " 'precipitation_data Standard Deviation of Mean Value',\n",
    " 'precipitation_data Third Quintile',\n",
    " 'precipitation_data Year of Occurrence of Maximum Monthly Value',\n",
    " 'precipitation_data Year of Occurrence of Minimum Monthly Value',\n",
    " 'sunshine Maximum Monthly Value',\n",
    " 'sunshine Mean Daily Value',\n",
    " 'sunshine Mean Number of Hours',\n",
    " 'sunshine Minimum Monthly Value',\n",
    " 'sunshine Percent of Possible',]"
   ]
  },
  {
   "cell_type": "code",
   "execution_count": 56,
   "metadata": {},
   "outputs": [],
   "source": [
    "df = df[selected_cols]"
   ]
  },
  {
   "cell_type": "code",
   "execution_count": 57,
   "metadata": {},
   "outputs": [],
   "source": [
    "df = df.replace([-9999.0, -9999.9], nan)"
   ]
  },
  {
   "cell_type": "code",
   "execution_count": 59,
   "metadata": {
    "tags": []
   },
   "outputs": [
    {
     "output_type": "stream",
     "name": "stdout",
     "text": "<class 'pandas.core.frame.DataFrame'>\nRangeIndex: 39074 entries, 0 to 39073\nData columns (total 82 columns):\n #   Column                                                          Non-Null Count  Dtype  \n---  ------                                                          --------------  -----  \n 0   IWMO                                                            39074 non-null  float64\n 1   Month                                                           39074 non-null  object \n 2   humidity Daytime Average                                        78 non-null     float64\n 3   humidity First Quartile                                         12 non-null     float64\n 4   humidity Mean Daily Maximum Value                               2668 non-null   float64\n 5   humidity Mean Daily Minimum Value                               2826 non-null   float64\n 6   humidity Mean Value                                             14262 non-null  float64\n 7   humidity Mean of 3-Hourly Observations                          3336 non-null   float64\n 8   humidity Mean of Hourly Observations                            1736 non-null   float64\n 9   humidity Mean of Observations at 0000 LST                       1333 non-null   float64\n 10  humidity Mean of Observations at 0100 LST                       1471 non-null   float64\n 11  humidity Mean of Observations at 0200 LST                       504 non-null    float64\n 12  humidity Mean of Observations at 0300 LST                       3461 non-null   float64\n 13  humidity Mean of Observations at 0400 LST                       1483 non-null   float64\n 14  humidity Mean of Observations at 0500 LST                       557 non-null    float64\n 15  humidity Mean of Observations at 0600 LST                       1344 non-null   float64\n 16  humidity Mean of Observations at 0700 LST                       1498 non-null   float64\n 17  humidity Mean of Observations at 0800 LST                       532 non-null    float64\n 18  humidity Mean of Observations at 0900 LST                       3680 non-null   float64\n 19  humidity Mean of Observations at 1000 LST                       1498 non-null   float64\n 20  humidity Mean of Observations at 1100 LST                       518 non-null    float64\n 21  humidity Mean of Observations at 1200 LST                       1344 non-null   float64\n 22  humidity Mean of Observations at 1300 LST                       1498 non-null   float64\n 23  humidity Mean of Observations at 1400 LST                       557 non-null    float64\n 24  humidity Mean of Observations at 1500 LST                       3680 non-null   float64\n 25  humidity Mean of Observations at 1600 LST                       1498 non-null   float64\n 26  humidity Mean of Observations at 1700 LST                       518 non-null    float64\n 27  humidity Mean of Observations at 1800 LST                       1344 non-null   float64\n 28  humidity Mean of Observations at 1900 LST                       1512 non-null   float64\n 29  humidity Mean of Observations at 2000 LST                       532 non-null    float64\n 30  humidity Mean of Observations at 2100 LST                       3469 non-null   float64\n 31  humidity Mean of Observations at 2200 LST                       1480 non-null   float64\n 32  humidity Mean of Observations at 2300 LST                       518 non-null    float64\n 33  humidity Median Value                                           12 non-null     float64\n 34  humidity Third Quartile                                         12 non-null     float64\n 35  mean_max_temp First Quartile                                    12 non-null     float64\n 36  mean_max_temp Maximum Daily Value                               5698 non-null   float64\n 37  mean_max_temp Maximum Monthly Value                             4309 non-null   float64\n 38  mean_max_temp Maximum Value                                     9649 non-null   float64\n 39  mean_max_temp Mean Daily Maximum Value                          238 non-null    float64\n 40  mean_max_temp Mean Monthly Maximum Value                        893 non-null    float64\n 41  mean_max_temp Mean Monthly Minimum Value                        143 non-null    float64\n 42  mean_max_temp Mean Value                                        25509 non-null  float64\n 43  mean_max_temp Median Value                                      220 non-null    float64\n 44  mean_max_temp Minimum Daily Value                               12 non-null     float64\n 45  mean_max_temp Minimum Monthly Value                             4297 non-null   float64\n 46  mean_max_temp Third Quartile                                    12 non-null     float64\n 47  mean_temp First Quartile                                        12 non-null     float64\n 48  mean_temp Maximum Daily Value                                   355 non-null    float64\n 49  mean_temp Maximum Monthly Value                                 1782 non-null   float64\n 50  mean_temp Maximum Value                                         2312 non-null   float64\n 51  mean_temp Mean Daily Maximum Value                              4890 non-null   float64\n 52  mean_temp Mean Daily Minimum Value                              4885 non-null   float64\n 53  mean_temp Mean Daily Value                                      616 non-null    float64\n 54  mean_temp Mean Monthly Maximum Value                            579 non-null    float64\n 55  mean_temp Mean Monthly Minimum Value                            579 non-null    float64\n 56  mean_temp Mean Monthly Value                                    28 non-null     float64\n 57  mean_temp Mean Value                                            31964 non-null  float64\n 58  mean_temp Mean of 3-Hourly Observations                         209 non-null    float64\n 59  mean_temp Mean of Hourly Observations                           2208 non-null   float64\n 60  mean_temp Median Value                                          220 non-null    float64\n 61  mean_temp Minimum Daily Value                                   356 non-null    float64\n 62  mean_temp Minimum Monthly Value                                 1793 non-null   float64\n 63  mean_temp Minimum Value                                         2312 non-null   float64\n 64  mean_temp Third Quartile                                        12 non-null     float64\n 65  precipitation_data First Quintile                               13637 non-null  float64\n 66  precipitation_data Fourth Quintile                              13634 non-null  float64\n 67  precipitation_data Maximum Monthly Value                        16175 non-null  float64\n 68  precipitation_data Mean Monthly Value                           36753 non-null  float64\n 69  precipitation_data Median Value                                 208 non-null    float64\n 70  precipitation_data Minimum Monthly Value                        16070 non-null  float64\n 71  precipitation_data Number of Years used to Calculate Normal     7227 non-null   float64\n 72  precipitation_data Second Quintile                              13429 non-null  float64\n 73  precipitation_data Standard Deviation of Mean Value             899 non-null    float64\n 74  precipitation_data Third Quintile                               13429 non-null  float64\n 75  precipitation_data Year of Occurrence of Maximum Monthly Value  1734 non-null   float64\n 76  precipitation_data Year of Occurrence of Minimum Monthly Value  1649 non-null   float64\n 77  sunshine Maximum Monthly Value                                  12 non-null     float64\n 78  sunshine Mean Daily Value                                       13 non-null     float64\n 79  sunshine Mean Number of Hours                                   22653 non-null  float64\n 80  sunshine Minimum Monthly Value                                  12 non-null     float64\n 81  sunshine Percent of Possible                                    4842 non-null   float64\ndtypes: float64(81), object(1)\nmemory usage: 24.4+ MB\n"
    }
   ],
   "source": [
    "df.info()"
   ]
  },
  {
   "cell_type": "code",
   "execution_count": 78,
   "metadata": {
    "tags": []
   },
   "outputs": [
    {
     "output_type": "stream",
     "name": "stdout",
     "text": "<class 'pandas.core.frame.DataFrame'>\nInt64Index: 8339 entries, 1624 to 36581\nData columns (total 82 columns):\n #   Column                                                          Non-Null Count  Dtype  \n---  ------                                                          --------------  -----  \n 0   IWMO                                                            8339 non-null   float64\n 1   Month                                                           8339 non-null   object \n 2   humidity Daytime Average                                        0 non-null      float64\n 3   humidity First Quartile                                         0 non-null      float64\n 4   humidity Mean Daily Maximum Value                               666 non-null    float64\n 5   humidity Mean Daily Minimum Value                               783 non-null    float64\n 6   humidity Mean Value                                             8339 non-null   float64\n 7   humidity Mean of 3-Hourly Observations                          0 non-null      float64\n 8   humidity Mean of Hourly Observations                            0 non-null      float64\n 9   humidity Mean of Observations at 0000 LST                       0 non-null      float64\n 10  humidity Mean of Observations at 0100 LST                       0 non-null      float64\n 11  humidity Mean of Observations at 0200 LST                       0 non-null      float64\n 12  humidity Mean of Observations at 0300 LST                       2098 non-null   float64\n 13  humidity Mean of Observations at 0400 LST                       0 non-null      float64\n 14  humidity Mean of Observations at 0500 LST                       0 non-null      float64\n 15  humidity Mean of Observations at 0600 LST                       0 non-null      float64\n 16  humidity Mean of Observations at 0700 LST                       0 non-null      float64\n 17  humidity Mean of Observations at 0800 LST                       0 non-null      float64\n 18  humidity Mean of Observations at 0900 LST                       2098 non-null   float64\n 19  humidity Mean of Observations at 1000 LST                       0 non-null      float64\n 20  humidity Mean of Observations at 1100 LST                       0 non-null      float64\n 21  humidity Mean of Observations at 1200 LST                       0 non-null      float64\n 22  humidity Mean of Observations at 1300 LST                       0 non-null      float64\n 23  humidity Mean of Observations at 1400 LST                       0 non-null      float64\n 24  humidity Mean of Observations at 1500 LST                       2098 non-null   float64\n 25  humidity Mean of Observations at 1600 LST                       0 non-null      float64\n 26  humidity Mean of Observations at 1700 LST                       0 non-null      float64\n 27  humidity Mean of Observations at 1800 LST                       0 non-null      float64\n 28  humidity Mean of Observations at 1900 LST                       0 non-null      float64\n 29  humidity Mean of Observations at 2000 LST                       0 non-null      float64\n 30  humidity Mean of Observations at 2100 LST                       2098 non-null   float64\n 31  humidity Mean of Observations at 2200 LST                       0 non-null      float64\n 32  humidity Mean of Observations at 2300 LST                       0 non-null      float64\n 33  humidity Median Value                                           0 non-null      float64\n 34  humidity Third Quartile                                         0 non-null      float64\n 35  mean_max_temp First Quartile                                    0 non-null      float64\n 36  mean_max_temp Maximum Daily Value                               1162 non-null   float64\n 37  mean_max_temp Maximum Monthly Value                             2633 non-null   float64\n 38  mean_max_temp Maximum Value                                     1047 non-null   float64\n 39  mean_max_temp Mean Daily Maximum Value                          0 non-null      float64\n 40  mean_max_temp Mean Monthly Maximum Value                        194 non-null    float64\n 41  mean_max_temp Mean Monthly Minimum Value                        0 non-null      float64\n 42  mean_max_temp Mean Value                                        8339 non-null   float64\n 43  mean_max_temp Median Value                                      0 non-null      float64\n 44  mean_max_temp Minimum Daily Value                               0 non-null      float64\n 45  mean_max_temp Minimum Monthly Value                             2633 non-null   float64\n 46  mean_max_temp Third Quartile                                    0 non-null      float64\n 47  mean_temp First Quartile                                        0 non-null      float64\n 48  mean_temp Maximum Daily Value                                   222 non-null    float64\n 49  mean_temp Maximum Monthly Value                                 898 non-null    float64\n 50  mean_temp Maximum Value                                         239 non-null    float64\n 51  mean_temp Mean Daily Maximum Value                              0 non-null      float64\n 52  mean_temp Mean Daily Minimum Value                              0 non-null      float64\n 53  mean_temp Mean Daily Value                                      0 non-null      float64\n 54  mean_temp Mean Monthly Maximum Value                            14 non-null     float64\n 55  mean_temp Mean Monthly Minimum Value                            14 non-null     float64\n 56  mean_temp Mean Monthly Value                                    0 non-null      float64\n 57  mean_temp Mean Value                                            8339 non-null   float64\n 58  mean_temp Mean of 3-Hourly Observations                         13 non-null     float64\n 59  mean_temp Mean of Hourly Observations                           0 non-null      float64\n 60  mean_temp Median Value                                          0 non-null      float64\n 61  mean_temp Minimum Daily Value                                   222 non-null    float64\n 62  mean_temp Minimum Monthly Value                                 898 non-null    float64\n 63  mean_temp Minimum Value                                         239 non-null    float64\n 64  mean_temp Third Quartile                                        0 non-null      float64\n 65  precipitation_data First Quintile                               3033 non-null   float64\n 66  precipitation_data Fourth Quintile                              3030 non-null   float64\n 67  precipitation_data Maximum Monthly Value                        3813 non-null   float64\n 68  precipitation_data Mean Monthly Value                           8339 non-null   float64\n 69  precipitation_data Median Value                                 0 non-null      float64\n 70  precipitation_data Minimum Monthly Value                        3831 non-null   float64\n 71  precipitation_data Number of Years used to Calculate Normal     723 non-null    float64\n 72  precipitation_data Second Quintile                              3033 non-null   float64\n 73  precipitation_data Standard Deviation of Mean Value             222 non-null    float64\n 74  precipitation_data Third Quintile                               3033 non-null   float64\n 75  precipitation_data Year of Occurrence of Maximum Monthly Value  849 non-null    float64\n 76  precipitation_data Year of Occurrence of Minimum Monthly Value  849 non-null    float64\n 77  sunshine Maximum Monthly Value                                  0 non-null      float64\n 78  sunshine Mean Daily Value                                       0 non-null      float64\n 79  sunshine Mean Number of Hours                                   8339 non-null   float64\n 80  sunshine Minimum Monthly Value                                  0 non-null      float64\n 81  sunshine Percent of Possible                                    2509 non-null   float64\ndtypes: float64(81), object(1)\nmemory usage: 5.3+ MB\n"
    }
   ],
   "source": [
    "df1 = df[df['humidity Mean Value'].notnull() & df['mean_max_temp Mean Value'].notnull() & df['mean_temp Mean Value'].notnull() & df['precipitation_data Mean Monthly Value'].notnull() & df['sunshine Mean Number of Hours'].notnull()]\n",
    "df1.info()"
   ]
  },
  {
   "cell_type": "code",
   "execution_count": 82,
   "metadata": {
    "tags": []
   },
   "outputs": [
    {
     "output_type": "stream",
     "name": "stdout",
     "text": "<class 'pandas.core.frame.DataFrame'>\nInt64Index: 14262 entries, 0 to 39073\nData columns (total 82 columns):\n #   Column                                                          Non-Null Count  Dtype  \n---  ------                                                          --------------  -----  \n 0   IWMO                                                            14262 non-null  float64\n 1   Month                                                           14262 non-null  object \n 2   humidity Daytime Average                                        0 non-null      float64\n 3   humidity First Quartile                                         0 non-null      float64\n 4   humidity Mean Daily Maximum Value                               1232 non-null   float64\n 5   humidity Mean Daily Minimum Value                               1401 non-null   float64\n 6   humidity Mean Value                                             14262 non-null  float64\n 7   humidity Mean of 3-Hourly Observations                          0 non-null      float64\n 8   humidity Mean of Hourly Observations                            0 non-null      float64\n 9   humidity Mean of Observations at 0000 LST                       0 non-null      float64\n 10  humidity Mean of Observations at 0100 LST                       0 non-null      float64\n 11  humidity Mean of Observations at 0200 LST                       0 non-null      float64\n 12  humidity Mean of Observations at 0300 LST                       2128 non-null   float64\n 13  humidity Mean of Observations at 0400 LST                       0 non-null      float64\n 14  humidity Mean of Observations at 0500 LST                       0 non-null      float64\n 15  humidity Mean of Observations at 0600 LST                       0 non-null      float64\n 16  humidity Mean of Observations at 0700 LST                       0 non-null      float64\n 17  humidity Mean of Observations at 0800 LST                       0 non-null      float64\n 18  humidity Mean of Observations at 0900 LST                       2128 non-null   float64\n 19  humidity Mean of Observations at 1000 LST                       0 non-null      float64\n 20  humidity Mean of Observations at 1100 LST                       0 non-null      float64\n 21  humidity Mean of Observations at 1200 LST                       0 non-null      float64\n 22  humidity Mean of Observations at 1300 LST                       0 non-null      float64\n 23  humidity Mean of Observations at 1400 LST                       0 non-null      float64\n 24  humidity Mean of Observations at 1500 LST                       2128 non-null   float64\n 25  humidity Mean of Observations at 1600 LST                       0 non-null      float64\n 26  humidity Mean of Observations at 1700 LST                       0 non-null      float64\n 27  humidity Mean of Observations at 1800 LST                       0 non-null      float64\n 28  humidity Mean of Observations at 1900 LST                       0 non-null      float64\n 29  humidity Mean of Observations at 2000 LST                       0 non-null      float64\n 30  humidity Mean of Observations at 2100 LST                       2128 non-null   float64\n 31  humidity Mean of Observations at 2200 LST                       0 non-null      float64\n 32  humidity Mean of Observations at 2300 LST                       0 non-null      float64\n 33  humidity Median Value                                           0 non-null      float64\n 34  humidity Third Quartile                                         0 non-null      float64\n 35  mean_max_temp First Quartile                                    0 non-null      float64\n 36  mean_max_temp Maximum Daily Value                               1875 non-null   float64\n 37  mean_max_temp Maximum Monthly Value                             3041 non-null   float64\n 38  mean_max_temp Maximum Value                                     2444 non-null   float64\n 39  mean_max_temp Mean Daily Maximum Value                          0 non-null      float64\n 40  mean_max_temp Mean Monthly Maximum Value                        298 non-null    float64\n 41  mean_max_temp Mean Monthly Minimum Value                        0 non-null      float64\n 42  mean_max_temp Mean Value                                        11689 non-null  float64\n 43  mean_max_temp Median Value                                      0 non-null      float64\n 44  mean_max_temp Minimum Daily Value                               0 non-null      float64\n 45  mean_max_temp Minimum Monthly Value                             3053 non-null   float64\n 46  mean_max_temp Third Quartile                                    0 non-null      float64\n 47  mean_temp First Quartile                                        0 non-null      float64\n 48  mean_temp Maximum Daily Value                                   318 non-null    float64\n 49  mean_temp Maximum Monthly Value                                 1224 non-null   float64\n 50  mean_temp Maximum Value                                         916 non-null    float64\n 51  mean_temp Mean Daily Maximum Value                              1911 non-null   float64\n 52  mean_temp Mean Daily Minimum Value                              1908 non-null   float64\n 53  mean_temp Mean Daily Value                                      392 non-null    float64\n 54  mean_temp Mean Monthly Maximum Value                            14 non-null     float64\n 55  mean_temp Mean Monthly Minimum Value                            14 non-null     float64\n 56  mean_temp Mean Monthly Value                                    0 non-null      float64\n 57  mean_temp Mean Value                                            12702 non-null  float64\n 58  mean_temp Mean of 3-Hourly Observations                         41 non-null     float64\n 59  mean_temp Mean of Hourly Observations                           231 non-null    float64\n 60  mean_temp Median Value                                          0 non-null      float64\n 61  mean_temp Minimum Daily Value                                   319 non-null    float64\n 62  mean_temp Minimum Monthly Value                                 1224 non-null   float64\n 63  mean_temp Minimum Value                                         916 non-null    float64\n 64  mean_temp Third Quartile                                        0 non-null      float64\n 65  precipitation_data First Quintile                               5076 non-null   float64\n 66  precipitation_data Fourth Quintile                              5073 non-null   float64\n 67  precipitation_data Maximum Monthly Value                        6390 non-null   float64\n 68  precipitation_data Mean Monthly Value                           13877 non-null  float64\n 69  precipitation_data Median Value                                 0 non-null      float64\n 70  precipitation_data Minimum Monthly Value                        6301 non-null   float64\n 71  precipitation_data Number of Years used to Calculate Normal     1259 non-null   float64\n 72  precipitation_data Second Quintile                              5076 non-null   float64\n 73  precipitation_data Standard Deviation of Mean Value             307 non-null    float64\n 74  precipitation_data Third Quintile                               5076 non-null   float64\n 75  precipitation_data Year of Occurrence of Maximum Monthly Value  1346 non-null   float64\n 76  precipitation_data Year of Occurrence of Minimum Monthly Value  1274 non-null   float64\n 77  sunshine Maximum Monthly Value                                  0 non-null      float64\n 78  sunshine Mean Daily Value                                       0 non-null      float64\n 79  sunshine Mean Number of Hours                                   9955 non-null   float64\n 80  sunshine Minimum Monthly Value                                  0 non-null      float64\n 81  sunshine Percent of Possible                                    2540 non-null   float64\ndtypes: float64(81), object(1)\nmemory usage: 9.0+ MB\n"
    }
   ],
   "source": [
    "df2 = df[df['humidity Mean Value'].notnull()]\n",
    "df2.info()"
   ]
  },
  {
   "cell_type": "code",
   "execution_count": null,
   "metadata": {},
   "outputs": [],
   "source": []
  }
 ]
}